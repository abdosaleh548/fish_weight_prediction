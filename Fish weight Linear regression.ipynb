{
 "cells": [
  {
   "cell_type": "code",
   "execution_count": 1,
   "id": "4cfd5f40",
   "metadata": {},
   "outputs": [],
   "source": [
    "import numpy as np \n",
    "import pandas as pd\n",
    "import matplotlib.pyplot as plt\n",
    "import seaborn as sns \n",
    "plt.style.use('seaborn-v0_8')\n",
    "import warnings\n",
    "warnings.filterwarnings('ignore')"
   ]
  },
  {
   "cell_type": "markdown",
   "id": "c303b809",
   "metadata": {},
   "source": [
    "First i stated with importing the libraries that i will be using for this project. \n",
    "\n",
    "I will be using pandas to read the data and numpy to do some calculations. \n",
    "\n",
    "I will also be using matplotlib and seaborn to do some visualizations."
   ]
  },
  {
   "cell_type": "code",
   "execution_count": 2,
   "id": "75489a6f",
   "metadata": {},
   "outputs": [],
   "source": [
    "df = pd.read_csv('Fish.csv')"
   ]
  },
  {
   "cell_type": "markdown",
   "id": "ff306e3f",
   "metadata": {},
   "source": [
    "Then i read the data using the pandas `read_csv` function and stored it in a variable called df."
   ]
  },
  {
   "cell_type": "code",
   "execution_count": 3,
   "id": "8f1e2a28",
   "metadata": {},
   "outputs": [
    {
     "data": {
      "text/html": [
       "<div>\n",
       "<style scoped>\n",
       "    .dataframe tbody tr th:only-of-type {\n",
       "        vertical-align: middle;\n",
       "    }\n",
       "\n",
       "    .dataframe tbody tr th {\n",
       "        vertical-align: top;\n",
       "    }\n",
       "\n",
       "    .dataframe thead th {\n",
       "        text-align: right;\n",
       "    }\n",
       "</style>\n",
       "<table border=\"1\" class=\"dataframe\">\n",
       "  <thead>\n",
       "    <tr style=\"text-align: right;\">\n",
       "      <th></th>\n",
       "      <th>Species</th>\n",
       "      <th>Weight</th>\n",
       "      <th>Length1</th>\n",
       "      <th>Length2</th>\n",
       "      <th>Length3</th>\n",
       "      <th>Height</th>\n",
       "      <th>Width</th>\n",
       "    </tr>\n",
       "  </thead>\n",
       "  <tbody>\n",
       "    <tr>\n",
       "      <th>64</th>\n",
       "      <td>Parkki</td>\n",
       "      <td>120.0</td>\n",
       "      <td>17.5</td>\n",
       "      <td>19.0</td>\n",
       "      <td>21.3</td>\n",
       "      <td>8.3922</td>\n",
       "      <td>2.9181</td>\n",
       "    </tr>\n",
       "    <tr>\n",
       "      <th>30</th>\n",
       "      <td>Bream</td>\n",
       "      <td>920.0</td>\n",
       "      <td>35.0</td>\n",
       "      <td>38.5</td>\n",
       "      <td>44.1</td>\n",
       "      <td>18.0369</td>\n",
       "      <td>6.3063</td>\n",
       "    </tr>\n",
       "    <tr>\n",
       "      <th>87</th>\n",
       "      <td>Perch</td>\n",
       "      <td>120.0</td>\n",
       "      <td>20.0</td>\n",
       "      <td>22.0</td>\n",
       "      <td>23.5</td>\n",
       "      <td>5.6400</td>\n",
       "      <td>3.5250</td>\n",
       "    </tr>\n",
       "    <tr>\n",
       "      <th>149</th>\n",
       "      <td>Smelt</td>\n",
       "      <td>9.8</td>\n",
       "      <td>10.7</td>\n",
       "      <td>11.2</td>\n",
       "      <td>12.4</td>\n",
       "      <td>2.0832</td>\n",
       "      <td>1.2772</td>\n",
       "    </tr>\n",
       "    <tr>\n",
       "      <th>146</th>\n",
       "      <td>Smelt</td>\n",
       "      <td>7.5</td>\n",
       "      <td>10.0</td>\n",
       "      <td>10.5</td>\n",
       "      <td>11.6</td>\n",
       "      <td>1.9720</td>\n",
       "      <td>1.1600</td>\n",
       "    </tr>\n",
       "    <tr>\n",
       "      <th>137</th>\n",
       "      <td>Pike</td>\n",
       "      <td>500.0</td>\n",
       "      <td>42.0</td>\n",
       "      <td>45.0</td>\n",
       "      <td>48.0</td>\n",
       "      <td>6.9600</td>\n",
       "      <td>4.8960</td>\n",
       "    </tr>\n",
       "    <tr>\n",
       "      <th>11</th>\n",
       "      <td>Bream</td>\n",
       "      <td>500.0</td>\n",
       "      <td>28.7</td>\n",
       "      <td>31.0</td>\n",
       "      <td>36.2</td>\n",
       "      <td>14.3714</td>\n",
       "      <td>4.8146</td>\n",
       "    </tr>\n",
       "    <tr>\n",
       "      <th>60</th>\n",
       "      <td>Whitefish</td>\n",
       "      <td>1000.0</td>\n",
       "      <td>37.3</td>\n",
       "      <td>40.0</td>\n",
       "      <td>43.5</td>\n",
       "      <td>12.3540</td>\n",
       "      <td>6.5250</td>\n",
       "    </tr>\n",
       "    <tr>\n",
       "      <th>101</th>\n",
       "      <td>Perch</td>\n",
       "      <td>218.0</td>\n",
       "      <td>25.0</td>\n",
       "      <td>26.5</td>\n",
       "      <td>28.0</td>\n",
       "      <td>7.1680</td>\n",
       "      <td>4.1440</td>\n",
       "    </tr>\n",
       "    <tr>\n",
       "      <th>17</th>\n",
       "      <td>Bream</td>\n",
       "      <td>700.0</td>\n",
       "      <td>30.4</td>\n",
       "      <td>33.0</td>\n",
       "      <td>38.5</td>\n",
       "      <td>14.9380</td>\n",
       "      <td>5.1975</td>\n",
       "    </tr>\n",
       "  </tbody>\n",
       "</table>\n",
       "</div>"
      ],
      "text/plain": [
       "       Species  Weight  Length1  Length2  Length3   Height   Width\n",
       "64      Parkki   120.0     17.5     19.0     21.3   8.3922  2.9181\n",
       "30       Bream   920.0     35.0     38.5     44.1  18.0369  6.3063\n",
       "87       Perch   120.0     20.0     22.0     23.5   5.6400  3.5250\n",
       "149      Smelt     9.8     10.7     11.2     12.4   2.0832  1.2772\n",
       "146      Smelt     7.5     10.0     10.5     11.6   1.9720  1.1600\n",
       "137       Pike   500.0     42.0     45.0     48.0   6.9600  4.8960\n",
       "11       Bream   500.0     28.7     31.0     36.2  14.3714  4.8146\n",
       "60   Whitefish  1000.0     37.3     40.0     43.5  12.3540  6.5250\n",
       "101      Perch   218.0     25.0     26.5     28.0   7.1680  4.1440\n",
       "17       Bream   700.0     30.4     33.0     38.5  14.9380  5.1975"
      ]
     },
     "execution_count": 3,
     "metadata": {},
     "output_type": "execute_result"
    }
   ],
   "source": [
    "df.sample(10)"
   ]
  },
  {
   "cell_type": "markdown",
   "id": "599a2944",
   "metadata": {},
   "source": [
    "The i got a sample of 10 rows "
   ]
  },
  {
   "cell_type": "code",
   "execution_count": 4,
   "id": "d7867b8a",
   "metadata": {},
   "outputs": [
    {
     "name": "stdout",
     "output_type": "stream",
     "text": [
      "<class 'pandas.core.frame.DataFrame'>\n",
      "RangeIndex: 159 entries, 0 to 158\n",
      "Data columns (total 7 columns):\n",
      " #   Column   Non-Null Count  Dtype  \n",
      "---  ------   --------------  -----  \n",
      " 0   Species  159 non-null    object \n",
      " 1   Weight   159 non-null    float64\n",
      " 2   Length1  159 non-null    float64\n",
      " 3   Length2  159 non-null    float64\n",
      " 4   Length3  159 non-null    float64\n",
      " 5   Height   159 non-null    float64\n",
      " 6   Width    159 non-null    float64\n",
      "dtypes: float64(6), object(1)\n",
      "memory usage: 8.8+ KB\n"
     ]
    }
   ],
   "source": [
    "df.info()"
   ]
  },
  {
   "cell_type": "markdown",
   "id": "0810856c",
   "metadata": {},
   "source": [
    "I then used the `info()` function to get some information about the data."
   ]
  },
  {
   "cell_type": "markdown",
   "id": "df353101",
   "metadata": {},
   "source": [
    "Got some info about the dataset and looks like there is no missing values but the column's names need to be changed to make them more clear"
   ]
  },
  {
   "cell_type": "code",
   "execution_count": 5,
   "id": "e5ad03a8",
   "metadata": {},
   "outputs": [
    {
     "data": {
      "text/html": [
       "<div>\n",
       "<style scoped>\n",
       "    .dataframe tbody tr th:only-of-type {\n",
       "        vertical-align: middle;\n",
       "    }\n",
       "\n",
       "    .dataframe tbody tr th {\n",
       "        vertical-align: top;\n",
       "    }\n",
       "\n",
       "    .dataframe thead th {\n",
       "        text-align: right;\n",
       "    }\n",
       "</style>\n",
       "<table border=\"1\" class=\"dataframe\">\n",
       "  <thead>\n",
       "    <tr style=\"text-align: right;\">\n",
       "      <th></th>\n",
       "      <th>count</th>\n",
       "      <th>mean</th>\n",
       "      <th>std</th>\n",
       "      <th>min</th>\n",
       "      <th>25%</th>\n",
       "      <th>50%</th>\n",
       "      <th>75%</th>\n",
       "      <th>max</th>\n",
       "    </tr>\n",
       "  </thead>\n",
       "  <tbody>\n",
       "    <tr>\n",
       "      <th>Weight</th>\n",
       "      <td>159.0</td>\n",
       "      <td>398.326415</td>\n",
       "      <td>357.978317</td>\n",
       "      <td>0.0000</td>\n",
       "      <td>120.00000</td>\n",
       "      <td>273.0000</td>\n",
       "      <td>650.0000</td>\n",
       "      <td>1650.000</td>\n",
       "    </tr>\n",
       "    <tr>\n",
       "      <th>Length1</th>\n",
       "      <td>159.0</td>\n",
       "      <td>26.247170</td>\n",
       "      <td>9.996441</td>\n",
       "      <td>7.5000</td>\n",
       "      <td>19.05000</td>\n",
       "      <td>25.2000</td>\n",
       "      <td>32.7000</td>\n",
       "      <td>59.000</td>\n",
       "    </tr>\n",
       "    <tr>\n",
       "      <th>Length2</th>\n",
       "      <td>159.0</td>\n",
       "      <td>28.415723</td>\n",
       "      <td>10.716328</td>\n",
       "      <td>8.4000</td>\n",
       "      <td>21.00000</td>\n",
       "      <td>27.3000</td>\n",
       "      <td>35.5000</td>\n",
       "      <td>63.400</td>\n",
       "    </tr>\n",
       "    <tr>\n",
       "      <th>Length3</th>\n",
       "      <td>159.0</td>\n",
       "      <td>31.227044</td>\n",
       "      <td>11.610246</td>\n",
       "      <td>8.8000</td>\n",
       "      <td>23.15000</td>\n",
       "      <td>29.4000</td>\n",
       "      <td>39.6500</td>\n",
       "      <td>68.000</td>\n",
       "    </tr>\n",
       "    <tr>\n",
       "      <th>Height</th>\n",
       "      <td>159.0</td>\n",
       "      <td>8.970994</td>\n",
       "      <td>4.286208</td>\n",
       "      <td>1.7284</td>\n",
       "      <td>5.94480</td>\n",
       "      <td>7.7860</td>\n",
       "      <td>12.3659</td>\n",
       "      <td>18.957</td>\n",
       "    </tr>\n",
       "    <tr>\n",
       "      <th>Width</th>\n",
       "      <td>159.0</td>\n",
       "      <td>4.417486</td>\n",
       "      <td>1.685804</td>\n",
       "      <td>1.0476</td>\n",
       "      <td>3.38565</td>\n",
       "      <td>4.2485</td>\n",
       "      <td>5.5845</td>\n",
       "      <td>8.142</td>\n",
       "    </tr>\n",
       "  </tbody>\n",
       "</table>\n",
       "</div>"
      ],
      "text/plain": [
       "         count        mean         std     min        25%       50%       75%  \\\n",
       "Weight   159.0  398.326415  357.978317  0.0000  120.00000  273.0000  650.0000   \n",
       "Length1  159.0   26.247170    9.996441  7.5000   19.05000   25.2000   32.7000   \n",
       "Length2  159.0   28.415723   10.716328  8.4000   21.00000   27.3000   35.5000   \n",
       "Length3  159.0   31.227044   11.610246  8.8000   23.15000   29.4000   39.6500   \n",
       "Height   159.0    8.970994    4.286208  1.7284    5.94480    7.7860   12.3659   \n",
       "Width    159.0    4.417486    1.685804  1.0476    3.38565    4.2485    5.5845   \n",
       "\n",
       "              max  \n",
       "Weight   1650.000  \n",
       "Length1    59.000  \n",
       "Length2    63.400  \n",
       "Length3    68.000  \n",
       "Height     18.957  \n",
       "Width       8.142  "
      ]
     },
     "execution_count": 5,
     "metadata": {},
     "output_type": "execute_result"
    }
   ],
   "source": [
    "df.describe().T"
   ]
  },
  {
   "cell_type": "markdown",
   "id": "58b7bcc5",
   "metadata": {},
   "source": [
    "I then used the `describe()` function to get some statistics about the data with the `.T` to transpose the data to make it more readable."
   ]
  },
  {
   "cell_type": "markdown",
   "id": "414146e4",
   "metadata": {},
   "source": [
    "I noticed that the minimum weight is 0 which can't be true so i'm going to investigate more but first i will set it to NaN"
   ]
  },
  {
   "cell_type": "code",
   "execution_count": 6,
   "id": "3c7a59fe",
   "metadata": {},
   "outputs": [],
   "source": [
    "df.loc[df['Weight'] == 0, 'Weight'] = np.nan"
   ]
  },
  {
   "cell_type": "markdown",
   "id": "be851b0f",
   "metadata": {},
   "source": [
    "I used the `df.loc` function to get the rows where the weight is 0 and set it to NaN"
   ]
  },
  {
   "cell_type": "code",
   "execution_count": 7,
   "id": "9faa0edc",
   "metadata": {},
   "outputs": [
    {
     "data": {
      "text/plain": [
       "<seaborn.axisgrid.FacetGrid at 0x242c92e15e0>"
      ]
     },
     "execution_count": 7,
     "metadata": {},
     "output_type": "execute_result"
    },
    {
     "data": {
      "image/png": "[encoded data removed]",
      "text/plain": [
       "<Figure size 500x500 with 1 Axes>"
      ]
     },
     "metadata": {},
     "output_type": "display_data"
    }
   ],
   "source": [
    "sns.displot(x = df['Weight'], data = df, bins = 60 , kde = True)"
   ]
  },
  {
   "cell_type": "markdown",
   "id": "2f3379ed",
   "metadata": {},
   "source": [
    "After visualizing the data i noticed that the weight ccolumn is skewed to the 0 side so i will do some investigation to see if i can find the reason for that."
   ]
  },
  {
   "cell_type": "markdown",
   "id": "39c4c986",
   "metadata": {},
   "source": [
    "First let's get the rows where the weight is less or equal to 50 grams and store them in variable called `bad_values`"
   ]
  },
  {
   "cell_type": "code",
   "execution_count": 8,
   "id": "4692af06",
   "metadata": {},
   "outputs": [],
   "source": [
    "bad_values = df['Weight'] <= 50 "
   ]
  },
  {
   "cell_type": "markdown",
   "id": "f1c19879",
   "metadata": {},
   "source": [
    "Now let's return the rows where the weight is less or equal to 50 grams"
   ]
  },
  {
   "cell_type": "code",
   "execution_count": 9,
   "id": "1bcb284b",
   "metadata": {},
   "outputs": [
    {
     "data": {
      "text/html": [
       "<div>\n",
       "<style scoped>\n",
       "    .dataframe tbody tr th:only-of-type {\n",
       "        vertical-align: middle;\n",
       "    }\n",
       "\n",
       "    .dataframe tbody tr th {\n",
       "        vertical-align: top;\n",
       "    }\n",
       "\n",
       "    .dataframe thead th {\n",
       "        text-align: right;\n",
       "    }\n",
       "</style>\n",
       "<table border=\"1\" class=\"dataframe\">\n",
       "  <thead>\n",
       "    <tr style=\"text-align: right;\">\n",
       "      <th></th>\n",
       "      <th>Species</th>\n",
       "      <th>Weight</th>\n",
       "      <th>Length1</th>\n",
       "      <th>Length2</th>\n",
       "      <th>Length3</th>\n",
       "      <th>Height</th>\n",
       "      <th>Width</th>\n",
       "    </tr>\n",
       "  </thead>\n",
       "  <tbody>\n",
       "    <tr>\n",
       "      <th>35</th>\n",
       "      <td>Roach</td>\n",
       "      <td>40.0</td>\n",
       "      <td>12.9</td>\n",
       "      <td>14.1</td>\n",
       "      <td>16.2</td>\n",
       "      <td>4.1472</td>\n",
       "      <td>2.2680</td>\n",
       "    </tr>\n",
       "    <tr>\n",
       "      <th>72</th>\n",
       "      <td>Perch</td>\n",
       "      <td>5.9</td>\n",
       "      <td>7.5</td>\n",
       "      <td>8.4</td>\n",
       "      <td>8.8</td>\n",
       "      <td>2.1120</td>\n",
       "      <td>1.4080</td>\n",
       "    </tr>\n",
       "    <tr>\n",
       "      <th>73</th>\n",
       "      <td>Perch</td>\n",
       "      <td>32.0</td>\n",
       "      <td>12.5</td>\n",
       "      <td>13.7</td>\n",
       "      <td>14.7</td>\n",
       "      <td>3.5280</td>\n",
       "      <td>1.9992</td>\n",
       "    </tr>\n",
       "    <tr>\n",
       "      <th>74</th>\n",
       "      <td>Perch</td>\n",
       "      <td>40.0</td>\n",
       "      <td>13.8</td>\n",
       "      <td>15.0</td>\n",
       "      <td>16.0</td>\n",
       "      <td>3.8240</td>\n",
       "      <td>2.4320</td>\n",
       "    </tr>\n",
       "    <tr>\n",
       "      <th>145</th>\n",
       "      <td>Smelt</td>\n",
       "      <td>6.7</td>\n",
       "      <td>9.3</td>\n",
       "      <td>9.8</td>\n",
       "      <td>10.8</td>\n",
       "      <td>1.7388</td>\n",
       "      <td>1.0476</td>\n",
       "    </tr>\n",
       "    <tr>\n",
       "      <th>146</th>\n",
       "      <td>Smelt</td>\n",
       "      <td>7.5</td>\n",
       "      <td>10.0</td>\n",
       "      <td>10.5</td>\n",
       "      <td>11.6</td>\n",
       "      <td>1.9720</td>\n",
       "      <td>1.1600</td>\n",
       "    </tr>\n",
       "    <tr>\n",
       "      <th>147</th>\n",
       "      <td>Smelt</td>\n",
       "      <td>7.0</td>\n",
       "      <td>10.1</td>\n",
       "      <td>10.6</td>\n",
       "      <td>11.6</td>\n",
       "      <td>1.7284</td>\n",
       "      <td>1.1484</td>\n",
       "    </tr>\n",
       "    <tr>\n",
       "      <th>148</th>\n",
       "      <td>Smelt</td>\n",
       "      <td>9.7</td>\n",
       "      <td>10.4</td>\n",
       "      <td>11.0</td>\n",
       "      <td>12.0</td>\n",
       "      <td>2.1960</td>\n",
       "      <td>1.3800</td>\n",
       "    </tr>\n",
       "    <tr>\n",
       "      <th>149</th>\n",
       "      <td>Smelt</td>\n",
       "      <td>9.8</td>\n",
       "      <td>10.7</td>\n",
       "      <td>11.2</td>\n",
       "      <td>12.4</td>\n",
       "      <td>2.0832</td>\n",
       "      <td>1.2772</td>\n",
       "    </tr>\n",
       "    <tr>\n",
       "      <th>150</th>\n",
       "      <td>Smelt</td>\n",
       "      <td>8.7</td>\n",
       "      <td>10.8</td>\n",
       "      <td>11.3</td>\n",
       "      <td>12.6</td>\n",
       "      <td>1.9782</td>\n",
       "      <td>1.2852</td>\n",
       "    </tr>\n",
       "    <tr>\n",
       "      <th>151</th>\n",
       "      <td>Smelt</td>\n",
       "      <td>10.0</td>\n",
       "      <td>11.3</td>\n",
       "      <td>11.8</td>\n",
       "      <td>13.1</td>\n",
       "      <td>2.2139</td>\n",
       "      <td>1.2838</td>\n",
       "    </tr>\n",
       "    <tr>\n",
       "      <th>152</th>\n",
       "      <td>Smelt</td>\n",
       "      <td>9.9</td>\n",
       "      <td>11.3</td>\n",
       "      <td>11.8</td>\n",
       "      <td>13.1</td>\n",
       "      <td>2.2139</td>\n",
       "      <td>1.1659</td>\n",
       "    </tr>\n",
       "    <tr>\n",
       "      <th>153</th>\n",
       "      <td>Smelt</td>\n",
       "      <td>9.8</td>\n",
       "      <td>11.4</td>\n",
       "      <td>12.0</td>\n",
       "      <td>13.2</td>\n",
       "      <td>2.2044</td>\n",
       "      <td>1.1484</td>\n",
       "    </tr>\n",
       "    <tr>\n",
       "      <th>154</th>\n",
       "      <td>Smelt</td>\n",
       "      <td>12.2</td>\n",
       "      <td>11.5</td>\n",
       "      <td>12.2</td>\n",
       "      <td>13.4</td>\n",
       "      <td>2.0904</td>\n",
       "      <td>1.3936</td>\n",
       "    </tr>\n",
       "    <tr>\n",
       "      <th>155</th>\n",
       "      <td>Smelt</td>\n",
       "      <td>13.4</td>\n",
       "      <td>11.7</td>\n",
       "      <td>12.4</td>\n",
       "      <td>13.5</td>\n",
       "      <td>2.4300</td>\n",
       "      <td>1.2690</td>\n",
       "    </tr>\n",
       "    <tr>\n",
       "      <th>156</th>\n",
       "      <td>Smelt</td>\n",
       "      <td>12.2</td>\n",
       "      <td>12.1</td>\n",
       "      <td>13.0</td>\n",
       "      <td>13.8</td>\n",
       "      <td>2.2770</td>\n",
       "      <td>1.2558</td>\n",
       "    </tr>\n",
       "    <tr>\n",
       "      <th>157</th>\n",
       "      <td>Smelt</td>\n",
       "      <td>19.7</td>\n",
       "      <td>13.2</td>\n",
       "      <td>14.3</td>\n",
       "      <td>15.2</td>\n",
       "      <td>2.8728</td>\n",
       "      <td>2.0672</td>\n",
       "    </tr>\n",
       "    <tr>\n",
       "      <th>158</th>\n",
       "      <td>Smelt</td>\n",
       "      <td>19.9</td>\n",
       "      <td>13.8</td>\n",
       "      <td>15.0</td>\n",
       "      <td>16.2</td>\n",
       "      <td>2.9322</td>\n",
       "      <td>1.8792</td>\n",
       "    </tr>\n",
       "  </tbody>\n",
       "</table>\n",
       "</div>"
      ],
      "text/plain": [
       "    Species  Weight  Length1  Length2  Length3  Height   Width\n",
       "35    Roach    40.0     12.9     14.1     16.2  4.1472  2.2680\n",
       "72    Perch     5.9      7.5      8.4      8.8  2.1120  1.4080\n",
       "73    Perch    32.0     12.5     13.7     14.7  3.5280  1.9992\n",
       "74    Perch    40.0     13.8     15.0     16.0  3.8240  2.4320\n",
       "145   Smelt     6.7      9.3      9.8     10.8  1.7388  1.0476\n",
       "146   Smelt     7.5     10.0     10.5     11.6  1.9720  1.1600\n",
       "147   Smelt     7.0     10.1     10.6     11.6  1.7284  1.1484\n",
       "148   Smelt     9.7     10.4     11.0     12.0  2.1960  1.3800\n",
       "149   Smelt     9.8     10.7     11.2     12.4  2.0832  1.2772\n",
       "150   Smelt     8.7     10.8     11.3     12.6  1.9782  1.2852\n",
       "151   Smelt    10.0     11.3     11.8     13.1  2.2139  1.2838\n",
       "152   Smelt     9.9     11.3     11.8     13.1  2.2139  1.1659\n",
       "153   Smelt     9.8     11.4     12.0     13.2  2.2044  1.1484\n",
       "154   Smelt    12.2     11.5     12.2     13.4  2.0904  1.3936\n",
       "155   Smelt    13.4     11.7     12.4     13.5  2.4300  1.2690\n",
       "156   Smelt    12.2     12.1     13.0     13.8  2.2770  1.2558\n",
       "157   Smelt    19.7     13.2     14.3     15.2  2.8728  2.0672\n",
       "158   Smelt    19.9     13.8     15.0     16.2  2.9322  1.8792"
      ]
     },
     "execution_count": 9,
     "metadata": {},
     "output_type": "execute_result"
    }
   ],
   "source": [
    "df.loc[bad_values]"
   ]
  },
  {
   "cell_type": "code",
   "execution_count": 10,
   "id": "d4d1e277",
   "metadata": {},
   "outputs": [
    {
     "data": {
      "text/plain": [
       "count     158.000000\n",
       "mean      400.847468\n",
       "std       357.697796\n",
       "min         5.900000\n",
       "25%       121.250000\n",
       "50%       281.500000\n",
       "75%       650.000000\n",
       "max      1650.000000\n",
       "Name: Weight, dtype: float64"
      ]
     },
     "execution_count": 10,
     "metadata": {},
     "output_type": "execute_result"
    }
   ],
   "source": [
    "df['Weight'].describe().T"
   ]
  },
  {
   "cell_type": "markdown",
   "id": "2f3c5be5",
   "metadata": {},
   "source": [
    "Now this looks interestind because the weight values are small but they tend to correspond to the same values in the other columns so i will visualize the data to see if i can find something ."
   ]
  },
  {
   "cell_type": "code",
   "execution_count": 11,
   "id": "e86cec10",
   "metadata": {},
   "outputs": [
    {
     "data": {
      "text/plain": [
       "<seaborn.axisgrid.PairGrid at 0x242cc919a60>"
      ]
     },
     "execution_count": 11,
     "metadata": {},
     "output_type": "execute_result"
    },
    {
     "data": {
      "image/png": "[encoded data removed]",
      "text/plain": [
       "<Figure size 1500x1500 with 42 Axes>"
      ]
     },
     "metadata": {},
     "output_type": "display_data"
    }
   ],
   "source": [
    "sns.pairplot(data = df.loc[bad_values])"
   ]
  },
  {
   "cell_type": "markdown",
   "id": "6b6e656a",
   "metadata": {},
   "source": [
    "And as I mentioned, there is a correlation between the weight and the other columns so i will do some research about the `Roacch` and `Smelt` fish to see if they are small fish and if they are then i will keep the data as it is but if they are not then i will drop the rows where the weight is less than 50 grams."
   ]
  },
  {
   "cell_type": "markdown",
   "id": "ae23ccb6",
   "metadata": {},
   "source": [
    "After doing some search i found out that :\n",
    "- smelt fish avg weight is 2.5 ounces but can start from less than 1 ounce which makes these values reasonable so i won't change them \n",
    "- roach fish avg weight is 450 grams so i'll replace the values less than 50 grams with the NaN value\n",
    "- perch fish avg weight is 2.5 kilograms but these values also will be handeled as outliers later in the notebook\n"
   ]
  },
  {
   "cell_type": "code",
   "execution_count": 12,
   "id": "c2498f11",
   "metadata": {},
   "outputs": [],
   "source": [
    "df.loc[df['Weight'] <= 50 & (df['Species'] == 'Roach'), 'Weight'] = np.nan"
   ]
  },
  {
   "cell_type": "markdown",
   "id": "26139591",
   "metadata": {},
   "source": [
    "## Cleaning"
   ]
  },
  {
   "cell_type": "code",
   "execution_count": 13,
   "id": "daecffc2",
   "metadata": {},
   "outputs": [],
   "source": [
    "df.columns=['species','weight','length_ver','length_diag','length_cross','height','width_dig']"
   ]
  },
  {
   "cell_type": "markdown",
   "id": "78e30b55",
   "metadata": {},
   "source": [
    "First I started by changing the names of the columns "
   ]
  },
  {
   "cell_type": "code",
   "execution_count": 14,
   "id": "d75e8319",
   "metadata": {},
   "outputs": [
    {
     "data": {
      "text/plain": [
       "0"
      ]
     },
     "execution_count": 14,
     "metadata": {},
     "output_type": "execute_result"
    }
   ],
   "source": [
    "df.duplicated().sum()"
   ]
  },
  {
   "cell_type": "markdown",
   "id": "f4c6b401",
   "metadata": {},
   "source": [
    "Then i used the `df.duplicated()` function to see if there were any duplicated rows and there were not any duplicates."
   ]
  },
  {
   "cell_type": "code",
   "execution_count": 15,
   "id": "30a39e23",
   "metadata": {},
   "outputs": [
    {
     "data": {
      "text/plain": [
       "species         0\n",
       "weight          1\n",
       "length_ver      0\n",
       "length_diag     0\n",
       "length_cross    0\n",
       "height          0\n",
       "width_dig       0\n",
       "dtype: int64"
      ]
     },
     "execution_count": 15,
     "metadata": {},
     "output_type": "execute_result"
    }
   ],
   "source": [
    "df.isnull().sum()"
   ]
  },
  {
   "cell_type": "markdown",
   "id": "a69e5a3a",
   "metadata": {},
   "source": [
    "Then i used the `df.isnull().sum()` to see the number of missing values in each column and :\n",
    "- The `Weight` column has 1 missing values\n",
    "\n",
    "So i'll replace the missing values with the maean of each species"
   ]
  },
  {
   "cell_type": "code",
   "execution_count": 16,
   "id": "d0bbb615",
   "metadata": {},
   "outputs": [
    {
     "data": {
      "text/html": [
       "<div>\n",
       "<style scoped>\n",
       "    .dataframe tbody tr th:only-of-type {\n",
       "        vertical-align: middle;\n",
       "    }\n",
       "\n",
       "    .dataframe tbody tr th {\n",
       "        vertical-align: top;\n",
       "    }\n",
       "\n",
       "    .dataframe thead th {\n",
       "        text-align: right;\n",
       "    }\n",
       "</style>\n",
       "<table border=\"1\" class=\"dataframe\">\n",
       "  <thead>\n",
       "    <tr style=\"text-align: right;\">\n",
       "      <th>species</th>\n",
       "      <th>Bream</th>\n",
       "      <th>Parkki</th>\n",
       "      <th>Perch</th>\n",
       "      <th>Pike</th>\n",
       "      <th>Roach</th>\n",
       "      <th>Smelt</th>\n",
       "      <th>Whitefish</th>\n",
       "    </tr>\n",
       "  </thead>\n",
       "  <tbody>\n",
       "    <tr>\n",
       "      <th>count</th>\n",
       "      <td>35.000000</td>\n",
       "      <td>11.000000</td>\n",
       "      <td>56.000000</td>\n",
       "      <td>17.000000</td>\n",
       "      <td>19.000000</td>\n",
       "      <td>14.000000</td>\n",
       "      <td>6.000000</td>\n",
       "    </tr>\n",
       "    <tr>\n",
       "      <th>mean</th>\n",
       "      <td>617.828571</td>\n",
       "      <td>154.818182</td>\n",
       "      <td>382.239286</td>\n",
       "      <td>718.705882</td>\n",
       "      <td>160.052632</td>\n",
       "      <td>11.178571</td>\n",
       "      <td>531.000000</td>\n",
       "    </tr>\n",
       "    <tr>\n",
       "      <th>std</th>\n",
       "      <td>209.205709</td>\n",
       "      <td>78.755086</td>\n",
       "      <td>347.617717</td>\n",
       "      <td>494.140765</td>\n",
       "      <td>83.528088</td>\n",
       "      <td>4.131526</td>\n",
       "      <td>309.602972</td>\n",
       "    </tr>\n",
       "    <tr>\n",
       "      <th>min</th>\n",
       "      <td>242.000000</td>\n",
       "      <td>55.000000</td>\n",
       "      <td>5.900000</td>\n",
       "      <td>200.000000</td>\n",
       "      <td>40.000000</td>\n",
       "      <td>6.700000</td>\n",
       "      <td>270.000000</td>\n",
       "    </tr>\n",
       "    <tr>\n",
       "      <th>25%</th>\n",
       "      <td>462.500000</td>\n",
       "      <td>105.000000</td>\n",
       "      <td>120.000000</td>\n",
       "      <td>345.000000</td>\n",
       "      <td>115.000000</td>\n",
       "      <td>8.950000</td>\n",
       "      <td>279.000000</td>\n",
       "    </tr>\n",
       "    <tr>\n",
       "      <th>50%</th>\n",
       "      <td>610.000000</td>\n",
       "      <td>145.000000</td>\n",
       "      <td>207.500000</td>\n",
       "      <td>510.000000</td>\n",
       "      <td>150.000000</td>\n",
       "      <td>9.850000</td>\n",
       "      <td>423.000000</td>\n",
       "    </tr>\n",
       "    <tr>\n",
       "      <th>75%</th>\n",
       "      <td>717.000000</td>\n",
       "      <td>185.000000</td>\n",
       "      <td>692.500000</td>\n",
       "      <td>950.000000</td>\n",
       "      <td>174.500000</td>\n",
       "      <td>12.200000</td>\n",
       "      <td>735.000000</td>\n",
       "    </tr>\n",
       "    <tr>\n",
       "      <th>max</th>\n",
       "      <td>1000.000000</td>\n",
       "      <td>300.000000</td>\n",
       "      <td>1100.000000</td>\n",
       "      <td>1650.000000</td>\n",
       "      <td>390.000000</td>\n",
       "      <td>19.900000</td>\n",
       "      <td>1000.000000</td>\n",
       "    </tr>\n",
       "  </tbody>\n",
       "</table>\n",
       "</div>"
      ],
      "text/plain": [
       "species        Bream      Parkki        Perch         Pike       Roach  \\\n",
       "count      35.000000   11.000000    56.000000    17.000000   19.000000   \n",
       "mean      617.828571  154.818182   382.239286   718.705882  160.052632   \n",
       "std       209.205709   78.755086   347.617717   494.140765   83.528088   \n",
       "min       242.000000   55.000000     5.900000   200.000000   40.000000   \n",
       "25%       462.500000  105.000000   120.000000   345.000000  115.000000   \n",
       "50%       610.000000  145.000000   207.500000   510.000000  150.000000   \n",
       "75%       717.000000  185.000000   692.500000   950.000000  174.500000   \n",
       "max      1000.000000  300.000000  1100.000000  1650.000000  390.000000   \n",
       "\n",
       "species      Smelt    Whitefish  \n",
       "count    14.000000     6.000000  \n",
       "mean     11.178571   531.000000  \n",
       "std       4.131526   309.602972  \n",
       "min       6.700000   270.000000  \n",
       "25%       8.950000   279.000000  \n",
       "50%       9.850000   423.000000  \n",
       "75%      12.200000   735.000000  \n",
       "max      19.900000  1000.000000  "
      ]
     },
     "execution_count": 16,
     "metadata": {},
     "output_type": "execute_result"
    }
   ],
   "source": [
    "weight_description = df.groupby('species').describe().T\n",
    "weight_description.loc['weight']"
   ]
  },
  {
   "cell_type": "markdown",
   "id": "fdb8633b",
   "metadata": {},
   "source": [
    "Here I used the `df.groupby` function to group the data by the `Species` column and get some stats about `Weight` column\n",
    "\n",
    "And i used this to get the mean of each species and the one i need is the mean of the `Roach` species which is 160.0"
   ]
  },
  {
   "cell_type": "code",
   "execution_count": 17,
   "id": "cdbe5515",
   "metadata": {},
   "outputs": [],
   "source": [
    "df['weight'].fillna(160, inplace = True)"
   ]
  },
  {
   "cell_type": "markdown",
   "id": "6555b0db",
   "metadata": {},
   "source": [
    "Now let's check the number of missing values again"
   ]
  },
  {
   "cell_type": "code",
   "execution_count": 18,
   "id": "ea11e294",
   "metadata": {},
   "outputs": [
    {
     "data": {
      "text/plain": [
       "0"
      ]
     },
     "execution_count": 18,
     "metadata": {},
     "output_type": "execute_result"
    }
   ],
   "source": [
    "df['weight'].isnull().sum()"
   ]
  },
  {
   "cell_type": "markdown",
   "id": "c2e5e2bb",
   "metadata": {},
   "source": [
    "Everything looks good now\n",
    "\n",
    "Let's head the data again to see the changes"
   ]
  },
  {
   "cell_type": "code",
   "execution_count": 19,
   "id": "acfe70de",
   "metadata": {},
   "outputs": [
    {
     "data": {
      "text/html": [
       "<div>\n",
       "<style scoped>\n",
       "    .dataframe tbody tr th:only-of-type {\n",
       "        vertical-align: middle;\n",
       "    }\n",
       "\n",
       "    .dataframe tbody tr th {\n",
       "        vertical-align: top;\n",
       "    }\n",
       "\n",
       "    .dataframe thead th {\n",
       "        text-align: right;\n",
       "    }\n",
       "</style>\n",
       "<table border=\"1\" class=\"dataframe\">\n",
       "  <thead>\n",
       "    <tr style=\"text-align: right;\">\n",
       "      <th></th>\n",
       "      <th>species</th>\n",
       "      <th>weight</th>\n",
       "      <th>length_ver</th>\n",
       "      <th>length_diag</th>\n",
       "      <th>length_cross</th>\n",
       "      <th>height</th>\n",
       "      <th>width_dig</th>\n",
       "    </tr>\n",
       "  </thead>\n",
       "  <tbody>\n",
       "    <tr>\n",
       "      <th>0</th>\n",
       "      <td>Bream</td>\n",
       "      <td>242.0</td>\n",
       "      <td>23.2</td>\n",
       "      <td>25.4</td>\n",
       "      <td>30.0</td>\n",
       "      <td>11.5200</td>\n",
       "      <td>4.0200</td>\n",
       "    </tr>\n",
       "    <tr>\n",
       "      <th>1</th>\n",
       "      <td>Bream</td>\n",
       "      <td>290.0</td>\n",
       "      <td>24.0</td>\n",
       "      <td>26.3</td>\n",
       "      <td>31.2</td>\n",
       "      <td>12.4800</td>\n",
       "      <td>4.3056</td>\n",
       "    </tr>\n",
       "    <tr>\n",
       "      <th>2</th>\n",
       "      <td>Bream</td>\n",
       "      <td>340.0</td>\n",
       "      <td>23.9</td>\n",
       "      <td>26.5</td>\n",
       "      <td>31.1</td>\n",
       "      <td>12.3778</td>\n",
       "      <td>4.6961</td>\n",
       "    </tr>\n",
       "    <tr>\n",
       "      <th>3</th>\n",
       "      <td>Bream</td>\n",
       "      <td>363.0</td>\n",
       "      <td>26.3</td>\n",
       "      <td>29.0</td>\n",
       "      <td>33.5</td>\n",
       "      <td>12.7300</td>\n",
       "      <td>4.4555</td>\n",
       "    </tr>\n",
       "    <tr>\n",
       "      <th>4</th>\n",
       "      <td>Bream</td>\n",
       "      <td>430.0</td>\n",
       "      <td>26.5</td>\n",
       "      <td>29.0</td>\n",
       "      <td>34.0</td>\n",
       "      <td>12.4440</td>\n",
       "      <td>5.1340</td>\n",
       "    </tr>\n",
       "    <tr>\n",
       "      <th>5</th>\n",
       "      <td>Bream</td>\n",
       "      <td>450.0</td>\n",
       "      <td>26.8</td>\n",
       "      <td>29.7</td>\n",
       "      <td>34.7</td>\n",
       "      <td>13.6024</td>\n",
       "      <td>4.9274</td>\n",
       "    </tr>\n",
       "    <tr>\n",
       "      <th>6</th>\n",
       "      <td>Bream</td>\n",
       "      <td>500.0</td>\n",
       "      <td>26.8</td>\n",
       "      <td>29.7</td>\n",
       "      <td>34.5</td>\n",
       "      <td>14.1795</td>\n",
       "      <td>5.2785</td>\n",
       "    </tr>\n",
       "    <tr>\n",
       "      <th>7</th>\n",
       "      <td>Bream</td>\n",
       "      <td>390.0</td>\n",
       "      <td>27.6</td>\n",
       "      <td>30.0</td>\n",
       "      <td>35.0</td>\n",
       "      <td>12.6700</td>\n",
       "      <td>4.6900</td>\n",
       "    </tr>\n",
       "    <tr>\n",
       "      <th>8</th>\n",
       "      <td>Bream</td>\n",
       "      <td>450.0</td>\n",
       "      <td>27.6</td>\n",
       "      <td>30.0</td>\n",
       "      <td>35.1</td>\n",
       "      <td>14.0049</td>\n",
       "      <td>4.8438</td>\n",
       "    </tr>\n",
       "    <tr>\n",
       "      <th>9</th>\n",
       "      <td>Bream</td>\n",
       "      <td>500.0</td>\n",
       "      <td>28.5</td>\n",
       "      <td>30.7</td>\n",
       "      <td>36.2</td>\n",
       "      <td>14.2266</td>\n",
       "      <td>4.9594</td>\n",
       "    </tr>\n",
       "  </tbody>\n",
       "</table>\n",
       "</div>"
      ],
      "text/plain": [
       "  species  weight  length_ver  length_diag  length_cross   height  width_dig\n",
       "0   Bream   242.0        23.2         25.4          30.0  11.5200     4.0200\n",
       "1   Bream   290.0        24.0         26.3          31.2  12.4800     4.3056\n",
       "2   Bream   340.0        23.9         26.5          31.1  12.3778     4.6961\n",
       "3   Bream   363.0        26.3         29.0          33.5  12.7300     4.4555\n",
       "4   Bream   430.0        26.5         29.0          34.0  12.4440     5.1340\n",
       "5   Bream   450.0        26.8         29.7          34.7  13.6024     4.9274\n",
       "6   Bream   500.0        26.8         29.7          34.5  14.1795     5.2785\n",
       "7   Bream   390.0        27.6         30.0          35.0  12.6700     4.6900\n",
       "8   Bream   450.0        27.6         30.0          35.1  14.0049     4.8438\n",
       "9   Bream   500.0        28.5         30.7          36.2  14.2266     4.9594"
      ]
     },
     "execution_count": 19,
     "metadata": {},
     "output_type": "execute_result"
    }
   ],
   "source": [
    "df.head(10)"
   ]
  },
  {
   "cell_type": "markdown",
   "id": "2f7f7641",
   "metadata": {},
   "source": [
    "It looks good so far, let's head to the next step which is handling the outliers    "
   ]
  },
  {
   "cell_type": "markdown",
   "id": "3231843e",
   "metadata": {},
   "source": [
    "## Handeling outliers"
   ]
  },
  {
   "cell_type": "code",
   "execution_count": 20,
   "id": "0d3cac9b",
   "metadata": {},
   "outputs": [],
   "source": [
    "def detect_outliers(df):\n",
    "    outliers = []\n",
    "    \n",
    "    for col in df.columns:\n",
    "        # Calculate quartiles and IQR\n",
    "        q1 = df[col].quantile(0.25)\n",
    "        q3 = df[col].quantile(0.75)\n",
    "        iqr = q3 - q1\n",
    "        \n",
    "        # Define the fences\n",
    "        fence_low = q1 - (1.5 * iqr)\n",
    "        fence_high = q3 + (1.5 * iqr)\n",
    "        \n",
    "        # Identify outliers\n",
    "        outliers_mask_low = df[col] < fence_low\n",
    "        outliers_mask_high = df[col] > fence_high\n",
    "        num_outliers = outliers_mask_low.sum() + outliers_mask_high.sum()\n",
    "        \n",
    "        # Replace outliers with fence values\n",
    "        df.loc[outliers_mask_low, col] = fence_low\n",
    "        df.loc[outliers_mask_high, col] = fence_high\n",
    "        \n",
    "        # Add information to the outliers list\n",
    "        outliers.append({'Feature': col, \"Num of Outliers\": num_outliers, \"Handled?\": True})\n",
    "    \n",
    "    # Convert the list of dictionaries to a DataFrame\n",
    "    outliers_df = pd.DataFrame(outliers, columns=[\"Feature\", \"Num of Outliers\", \"Handled?\"])\n",
    "    \n",
    "    return outliers_df"
   ]
  },
  {
   "cell_type": "markdown",
   "id": "430d964f",
   "metadata": {},
   "source": [
    "This function `detect_outliers` that i made will :\n",
    "- Take a dataframe as an input\n",
    "- iterate over the columns of the dataframe\n",
    "- calculate the IQR for each column \n",
    "- calculate the upper and lower bounds for each column\n",
    "- return a dictionary with the column name as a key and the number of outliers as a value\n",
    "- handle the outliers by replacing them with the upper and lower bounds\n",
    "- return a dataframe with the outliers"
   ]
  },
  {
   "cell_type": "code",
   "execution_count": 21,
   "id": "e1d69e7a",
   "metadata": {},
   "outputs": [
    {
     "data": {
      "text/html": [
       "<div>\n",
       "<style scoped>\n",
       "    .dataframe tbody tr th:only-of-type {\n",
       "        vertical-align: middle;\n",
       "    }\n",
       "\n",
       "    .dataframe tbody tr th {\n",
       "        vertical-align: top;\n",
       "    }\n",
       "\n",
       "    .dataframe thead th {\n",
       "        text-align: right;\n",
       "    }\n",
       "</style>\n",
       "<table border=\"1\" class=\"dataframe\">\n",
       "  <thead>\n",
       "    <tr style=\"text-align: right;\">\n",
       "      <th></th>\n",
       "      <th>Feature</th>\n",
       "      <th>Num of Outliers</th>\n",
       "      <th>Handled?</th>\n",
       "    </tr>\n",
       "  </thead>\n",
       "  <tbody>\n",
       "    <tr>\n",
       "      <th>0</th>\n",
       "      <td>weight</td>\n",
       "      <td>3</td>\n",
       "      <td>True</td>\n",
       "    </tr>\n",
       "    <tr>\n",
       "      <th>1</th>\n",
       "      <td>length_ver</td>\n",
       "      <td>3</td>\n",
       "      <td>True</td>\n",
       "    </tr>\n",
       "    <tr>\n",
       "      <th>2</th>\n",
       "      <td>length_diag</td>\n",
       "      <td>3</td>\n",
       "      <td>True</td>\n",
       "    </tr>\n",
       "    <tr>\n",
       "      <th>3</th>\n",
       "      <td>length_cross</td>\n",
       "      <td>1</td>\n",
       "      <td>True</td>\n",
       "    </tr>\n",
       "    <tr>\n",
       "      <th>4</th>\n",
       "      <td>height</td>\n",
       "      <td>0</td>\n",
       "      <td>True</td>\n",
       "    </tr>\n",
       "    <tr>\n",
       "      <th>5</th>\n",
       "      <td>width_dig</td>\n",
       "      <td>0</td>\n",
       "      <td>True</td>\n",
       "    </tr>\n",
       "  </tbody>\n",
       "</table>\n",
       "</div>"
      ],
      "text/plain": [
       "        Feature  Num of Outliers  Handled?\n",
       "0        weight                3      True\n",
       "1    length_ver                3      True\n",
       "2   length_diag                3      True\n",
       "3  length_cross                1      True\n",
       "4        height                0      True\n",
       "5     width_dig                0      True"
      ]
     },
     "execution_count": 21,
     "metadata": {},
     "output_type": "execute_result"
    }
   ],
   "source": [
    "detect_outliers(df.iloc[:,1:])"
   ]
  },
  {
   "cell_type": "markdown",
   "id": "951e1b42",
   "metadata": {},
   "source": [
    "There were some outliers in the data but they were handled by the `detect_outliers` function    "
   ]
  },
  {
   "cell_type": "code",
   "execution_count": 22,
   "id": "9ce02ae1",
   "metadata": {},
   "outputs": [
    {
     "data": {
      "text/html": [
       "<div>\n",
       "<style scoped>\n",
       "    .dataframe tbody tr th:only-of-type {\n",
       "        vertical-align: middle;\n",
       "    }\n",
       "\n",
       "    .dataframe tbody tr th {\n",
       "        vertical-align: top;\n",
       "    }\n",
       "\n",
       "    .dataframe thead th {\n",
       "        text-align: right;\n",
       "    }\n",
       "</style>\n",
       "<table border=\"1\" class=\"dataframe\">\n",
       "  <thead>\n",
       "    <tr style=\"text-align: right;\">\n",
       "      <th></th>\n",
       "      <th>count</th>\n",
       "      <th>mean</th>\n",
       "      <th>std</th>\n",
       "      <th>min</th>\n",
       "      <th>25%</th>\n",
       "      <th>50%</th>\n",
       "      <th>75%</th>\n",
       "      <th>max</th>\n",
       "    </tr>\n",
       "  </thead>\n",
       "  <tbody>\n",
       "    <tr>\n",
       "      <th>weight</th>\n",
       "      <td>159.0</td>\n",
       "      <td>399.332704</td>\n",
       "      <td>357.075264</td>\n",
       "      <td>5.9000</td>\n",
       "      <td>122.50000</td>\n",
       "      <td>273.0000</td>\n",
       "      <td>650.0000</td>\n",
       "      <td>1650.000</td>\n",
       "    </tr>\n",
       "    <tr>\n",
       "      <th>length_ver</th>\n",
       "      <td>159.0</td>\n",
       "      <td>26.247170</td>\n",
       "      <td>9.996441</td>\n",
       "      <td>7.5000</td>\n",
       "      <td>19.05000</td>\n",
       "      <td>25.2000</td>\n",
       "      <td>32.7000</td>\n",
       "      <td>59.000</td>\n",
       "    </tr>\n",
       "    <tr>\n",
       "      <th>length_diag</th>\n",
       "      <td>159.0</td>\n",
       "      <td>28.415723</td>\n",
       "      <td>10.716328</td>\n",
       "      <td>8.4000</td>\n",
       "      <td>21.00000</td>\n",
       "      <td>27.3000</td>\n",
       "      <td>35.5000</td>\n",
       "      <td>63.400</td>\n",
       "    </tr>\n",
       "    <tr>\n",
       "      <th>length_cross</th>\n",
       "      <td>159.0</td>\n",
       "      <td>31.227044</td>\n",
       "      <td>11.610246</td>\n",
       "      <td>8.8000</td>\n",
       "      <td>23.15000</td>\n",
       "      <td>29.4000</td>\n",
       "      <td>39.6500</td>\n",
       "      <td>68.000</td>\n",
       "    </tr>\n",
       "    <tr>\n",
       "      <th>height</th>\n",
       "      <td>159.0</td>\n",
       "      <td>8.970994</td>\n",
       "      <td>4.286208</td>\n",
       "      <td>1.7284</td>\n",
       "      <td>5.94480</td>\n",
       "      <td>7.7860</td>\n",
       "      <td>12.3659</td>\n",
       "      <td>18.957</td>\n",
       "    </tr>\n",
       "    <tr>\n",
       "      <th>width_dig</th>\n",
       "      <td>159.0</td>\n",
       "      <td>4.417486</td>\n",
       "      <td>1.685804</td>\n",
       "      <td>1.0476</td>\n",
       "      <td>3.38565</td>\n",
       "      <td>4.2485</td>\n",
       "      <td>5.5845</td>\n",
       "      <td>8.142</td>\n",
       "    </tr>\n",
       "  </tbody>\n",
       "</table>\n",
       "</div>"
      ],
      "text/plain": [
       "              count        mean         std     min        25%       50%  \\\n",
       "weight        159.0  399.332704  357.075264  5.9000  122.50000  273.0000   \n",
       "length_ver    159.0   26.247170    9.996441  7.5000   19.05000   25.2000   \n",
       "length_diag   159.0   28.415723   10.716328  8.4000   21.00000   27.3000   \n",
       "length_cross  159.0   31.227044   11.610246  8.8000   23.15000   29.4000   \n",
       "height        159.0    8.970994    4.286208  1.7284    5.94480    7.7860   \n",
       "width_dig     159.0    4.417486    1.685804  1.0476    3.38565    4.2485   \n",
       "\n",
       "                   75%       max  \n",
       "weight        650.0000  1650.000  \n",
       "length_ver     32.7000    59.000  \n",
       "length_diag    35.5000    63.400  \n",
       "length_cross   39.6500    68.000  \n",
       "height         12.3659    18.957  \n",
       "width_dig       5.5845     8.142  "
      ]
     },
     "execution_count": 22,
     "metadata": {},
     "output_type": "execute_result"
    }
   ],
   "source": [
    "df.describe().T"
   ]
  },
  {
   "cell_type": "markdown",
   "id": "c31bdd94",
   "metadata": {},
   "source": [
    "Everything looks good now, let's head to the next step which is Encoding the categorical data"
   ]
  },
  {
   "cell_type": "markdown",
   "id": "e094364d",
   "metadata": {},
   "source": [
    "## Encoding"
   ]
  },
  {
   "cell_type": "markdown",
   "id": "1f3eea0e",
   "metadata": {},
   "source": [
    "Let's check the data types of the columns"
   ]
  },
  {
   "cell_type": "code",
   "execution_count": 23,
   "id": "f0b0e5f0",
   "metadata": {},
   "outputs": [
    {
     "name": "stdout",
     "output_type": "stream",
     "text": [
      "<class 'pandas.core.frame.DataFrame'>\n",
      "RangeIndex: 159 entries, 0 to 158\n",
      "Data columns (total 7 columns):\n",
      " #   Column        Non-Null Count  Dtype  \n",
      "---  ------        --------------  -----  \n",
      " 0   species       159 non-null    object \n",
      " 1   weight        159 non-null    float64\n",
      " 2   length_ver    159 non-null    float64\n",
      " 3   length_diag   159 non-null    float64\n",
      " 4   length_cross  159 non-null    float64\n",
      " 5   height        159 non-null    float64\n",
      " 6   width_dig     159 non-null    float64\n",
      "dtypes: float64(6), object(1)\n",
      "memory usage: 8.8+ KB\n"
     ]
    }
   ],
   "source": [
    "df.info()"
   ]
  },
  {
   "cell_type": "markdown",
   "id": "3c8bcb96",
   "metadata": {},
   "source": [
    "All the columns are numerical except the `Species` column which is an object so first i will convert it to a category then i will encode it using the `one-hot encoding` technique"
   ]
  },
  {
   "cell_type": "code",
   "execution_count": 24,
   "id": "6bb88356",
   "metadata": {},
   "outputs": [],
   "source": [
    "df['species'] = df['species'].astype('category') "
   ]
  },
  {
   "cell_type": "code",
   "execution_count": 25,
   "id": "5cea8760",
   "metadata": {},
   "outputs": [
    {
     "data": {
      "text/html": [
       "<div>\n",
       "<style scoped>\n",
       "    .dataframe tbody tr th:only-of-type {\n",
       "        vertical-align: middle;\n",
       "    }\n",
       "\n",
       "    .dataframe tbody tr th {\n",
       "        vertical-align: top;\n",
       "    }\n",
       "\n",
       "    .dataframe thead th {\n",
       "        text-align: right;\n",
       "    }\n",
       "</style>\n",
       "<table border=\"1\" class=\"dataframe\">\n",
       "  <thead>\n",
       "    <tr style=\"text-align: right;\">\n",
       "      <th></th>\n",
       "      <th>Bream</th>\n",
       "      <th>Parkki</th>\n",
       "      <th>Perch</th>\n",
       "      <th>Pike</th>\n",
       "      <th>Roach</th>\n",
       "      <th>Smelt</th>\n",
       "      <th>Whitefish</th>\n",
       "    </tr>\n",
       "  </thead>\n",
       "  <tbody>\n",
       "    <tr>\n",
       "      <th>0</th>\n",
       "      <td>1.0</td>\n",
       "      <td>0.0</td>\n",
       "      <td>0.0</td>\n",
       "      <td>0.0</td>\n",
       "      <td>0.0</td>\n",
       "      <td>0.0</td>\n",
       "      <td>0.0</td>\n",
       "    </tr>\n",
       "    <tr>\n",
       "      <th>1</th>\n",
       "      <td>1.0</td>\n",
       "      <td>0.0</td>\n",
       "      <td>0.0</td>\n",
       "      <td>0.0</td>\n",
       "      <td>0.0</td>\n",
       "      <td>0.0</td>\n",
       "      <td>0.0</td>\n",
       "    </tr>\n",
       "    <tr>\n",
       "      <th>2</th>\n",
       "      <td>1.0</td>\n",
       "      <td>0.0</td>\n",
       "      <td>0.0</td>\n",
       "      <td>0.0</td>\n",
       "      <td>0.0</td>\n",
       "      <td>0.0</td>\n",
       "      <td>0.0</td>\n",
       "    </tr>\n",
       "    <tr>\n",
       "      <th>3</th>\n",
       "      <td>1.0</td>\n",
       "      <td>0.0</td>\n",
       "      <td>0.0</td>\n",
       "      <td>0.0</td>\n",
       "      <td>0.0</td>\n",
       "      <td>0.0</td>\n",
       "      <td>0.0</td>\n",
       "    </tr>\n",
       "    <tr>\n",
       "      <th>4</th>\n",
       "      <td>1.0</td>\n",
       "      <td>0.0</td>\n",
       "      <td>0.0</td>\n",
       "      <td>0.0</td>\n",
       "      <td>0.0</td>\n",
       "      <td>0.0</td>\n",
       "      <td>0.0</td>\n",
       "    </tr>\n",
       "    <tr>\n",
       "      <th>...</th>\n",
       "      <td>...</td>\n",
       "      <td>...</td>\n",
       "      <td>...</td>\n",
       "      <td>...</td>\n",
       "      <td>...</td>\n",
       "      <td>...</td>\n",
       "      <td>...</td>\n",
       "    </tr>\n",
       "    <tr>\n",
       "      <th>154</th>\n",
       "      <td>0.0</td>\n",
       "      <td>0.0</td>\n",
       "      <td>0.0</td>\n",
       "      <td>0.0</td>\n",
       "      <td>0.0</td>\n",
       "      <td>1.0</td>\n",
       "      <td>0.0</td>\n",
       "    </tr>\n",
       "    <tr>\n",
       "      <th>155</th>\n",
       "      <td>0.0</td>\n",
       "      <td>0.0</td>\n",
       "      <td>0.0</td>\n",
       "      <td>0.0</td>\n",
       "      <td>0.0</td>\n",
       "      <td>1.0</td>\n",
       "      <td>0.0</td>\n",
       "    </tr>\n",
       "    <tr>\n",
       "      <th>156</th>\n",
       "      <td>0.0</td>\n",
       "      <td>0.0</td>\n",
       "      <td>0.0</td>\n",
       "      <td>0.0</td>\n",
       "      <td>0.0</td>\n",
       "      <td>1.0</td>\n",
       "      <td>0.0</td>\n",
       "    </tr>\n",
       "    <tr>\n",
       "      <th>157</th>\n",
       "      <td>0.0</td>\n",
       "      <td>0.0</td>\n",
       "      <td>0.0</td>\n",
       "      <td>0.0</td>\n",
       "      <td>0.0</td>\n",
       "      <td>1.0</td>\n",
       "      <td>0.0</td>\n",
       "    </tr>\n",
       "    <tr>\n",
       "      <th>158</th>\n",
       "      <td>0.0</td>\n",
       "      <td>0.0</td>\n",
       "      <td>0.0</td>\n",
       "      <td>0.0</td>\n",
       "      <td>0.0</td>\n",
       "      <td>1.0</td>\n",
       "      <td>0.0</td>\n",
       "    </tr>\n",
       "  </tbody>\n",
       "</table>\n",
       "<p>159 rows × 7 columns</p>\n",
       "</div>"
      ],
      "text/plain": [
       "     Bream  Parkki  Perch  Pike  Roach  Smelt  Whitefish\n",
       "0      1.0     0.0    0.0   0.0    0.0    0.0        0.0\n",
       "1      1.0     0.0    0.0   0.0    0.0    0.0        0.0\n",
       "2      1.0     0.0    0.0   0.0    0.0    0.0        0.0\n",
       "3      1.0     0.0    0.0   0.0    0.0    0.0        0.0\n",
       "4      1.0     0.0    0.0   0.0    0.0    0.0        0.0\n",
       "..     ...     ...    ...   ...    ...    ...        ...\n",
       "154    0.0     0.0    0.0   0.0    0.0    1.0        0.0\n",
       "155    0.0     0.0    0.0   0.0    0.0    1.0        0.0\n",
       "156    0.0     0.0    0.0   0.0    0.0    1.0        0.0\n",
       "157    0.0     0.0    0.0   0.0    0.0    1.0        0.0\n",
       "158    0.0     0.0    0.0   0.0    0.0    1.0        0.0\n",
       "\n",
       "[159 rows x 7 columns]"
      ]
     },
     "execution_count": 25,
     "metadata": {},
     "output_type": "execute_result"
    }
   ],
   "source": [
    "from sklearn.preprocessing import OneHotEncoder\n",
    "ohe = OneHotEncoder(sparse = False )\n",
    "arr = ohe.fit_transform(df[['species']])\n",
    "transformed_col = pd.DataFrame(arr)\n",
    "transformed_col.columns = ['Bream','Parkki','Perch','Pike','Roach','Smelt','Whitefish']\n",
    "transformed_col"
   ]
  },
  {
   "cell_type": "code",
   "execution_count": 26,
   "id": "3ed08b4f",
   "metadata": {},
   "outputs": [],
   "source": [
    "df = df.join(transformed_col)"
   ]
  },
  {
   "cell_type": "markdown",
   "id": "991295f9",
   "metadata": {},
   "source": [
    "I imorted the `OneHotEncoder` from the `sklearn.preprocessing` library\n",
    "\n",
    "Then i created an instance of the `OneHotEncoder` and encoded the `Species` column\n",
    "\n",
    "Then i created a dataframe from the encoded data and concatenated it with the original dataframe\n",
    "\n",
    "And i will drop the `Species` column because it is not needed anymore   "
   ]
  },
  {
   "cell_type": "code",
   "execution_count": 27,
   "id": "c085688c",
   "metadata": {},
   "outputs": [],
   "source": [
    "df.drop(columns = ['species'],inplace = True)"
   ]
  },
  {
   "cell_type": "code",
   "execution_count": 28,
   "id": "53864afd",
   "metadata": {},
   "outputs": [
    {
     "data": {
      "text/html": [
       "<div>\n",
       "<style scoped>\n",
       "    .dataframe tbody tr th:only-of-type {\n",
       "        vertical-align: middle;\n",
       "    }\n",
       "\n",
       "    .dataframe tbody tr th {\n",
       "        vertical-align: top;\n",
       "    }\n",
       "\n",
       "    .dataframe thead th {\n",
       "        text-align: right;\n",
       "    }\n",
       "</style>\n",
       "<table border=\"1\" class=\"dataframe\">\n",
       "  <thead>\n",
       "    <tr style=\"text-align: right;\">\n",
       "      <th></th>\n",
       "      <th>weight</th>\n",
       "      <th>length_ver</th>\n",
       "      <th>length_diag</th>\n",
       "      <th>length_cross</th>\n",
       "      <th>height</th>\n",
       "      <th>width_dig</th>\n",
       "      <th>Bream</th>\n",
       "      <th>Parkki</th>\n",
       "      <th>Perch</th>\n",
       "      <th>Pike</th>\n",
       "      <th>Roach</th>\n",
       "      <th>Smelt</th>\n",
       "      <th>Whitefish</th>\n",
       "    </tr>\n",
       "  </thead>\n",
       "  <tbody>\n",
       "    <tr>\n",
       "      <th>0</th>\n",
       "      <td>242.0</td>\n",
       "      <td>23.2</td>\n",
       "      <td>25.4</td>\n",
       "      <td>30.0</td>\n",
       "      <td>11.5200</td>\n",
       "      <td>4.0200</td>\n",
       "      <td>1.0</td>\n",
       "      <td>0.0</td>\n",
       "      <td>0.0</td>\n",
       "      <td>0.0</td>\n",
       "      <td>0.0</td>\n",
       "      <td>0.0</td>\n",
       "      <td>0.0</td>\n",
       "    </tr>\n",
       "    <tr>\n",
       "      <th>1</th>\n",
       "      <td>290.0</td>\n",
       "      <td>24.0</td>\n",
       "      <td>26.3</td>\n",
       "      <td>31.2</td>\n",
       "      <td>12.4800</td>\n",
       "      <td>4.3056</td>\n",
       "      <td>1.0</td>\n",
       "      <td>0.0</td>\n",
       "      <td>0.0</td>\n",
       "      <td>0.0</td>\n",
       "      <td>0.0</td>\n",
       "      <td>0.0</td>\n",
       "      <td>0.0</td>\n",
       "    </tr>\n",
       "    <tr>\n",
       "      <th>2</th>\n",
       "      <td>340.0</td>\n",
       "      <td>23.9</td>\n",
       "      <td>26.5</td>\n",
       "      <td>31.1</td>\n",
       "      <td>12.3778</td>\n",
       "      <td>4.6961</td>\n",
       "      <td>1.0</td>\n",
       "      <td>0.0</td>\n",
       "      <td>0.0</td>\n",
       "      <td>0.0</td>\n",
       "      <td>0.0</td>\n",
       "      <td>0.0</td>\n",
       "      <td>0.0</td>\n",
       "    </tr>\n",
       "    <tr>\n",
       "      <th>3</th>\n",
       "      <td>363.0</td>\n",
       "      <td>26.3</td>\n",
       "      <td>29.0</td>\n",
       "      <td>33.5</td>\n",
       "      <td>12.7300</td>\n",
       "      <td>4.4555</td>\n",
       "      <td>1.0</td>\n",
       "      <td>0.0</td>\n",
       "      <td>0.0</td>\n",
       "      <td>0.0</td>\n",
       "      <td>0.0</td>\n",
       "      <td>0.0</td>\n",
       "      <td>0.0</td>\n",
       "    </tr>\n",
       "    <tr>\n",
       "      <th>4</th>\n",
       "      <td>430.0</td>\n",
       "      <td>26.5</td>\n",
       "      <td>29.0</td>\n",
       "      <td>34.0</td>\n",
       "      <td>12.4440</td>\n",
       "      <td>5.1340</td>\n",
       "      <td>1.0</td>\n",
       "      <td>0.0</td>\n",
       "      <td>0.0</td>\n",
       "      <td>0.0</td>\n",
       "      <td>0.0</td>\n",
       "      <td>0.0</td>\n",
       "      <td>0.0</td>\n",
       "    </tr>\n",
       "  </tbody>\n",
       "</table>\n",
       "</div>"
      ],
      "text/plain": [
       "   weight  length_ver  length_diag  length_cross   height  width_dig  Bream  \\\n",
       "0   242.0        23.2         25.4          30.0  11.5200     4.0200    1.0   \n",
       "1   290.0        24.0         26.3          31.2  12.4800     4.3056    1.0   \n",
       "2   340.0        23.9         26.5          31.1  12.3778     4.6961    1.0   \n",
       "3   363.0        26.3         29.0          33.5  12.7300     4.4555    1.0   \n",
       "4   430.0        26.5         29.0          34.0  12.4440     5.1340    1.0   \n",
       "\n",
       "   Parkki  Perch  Pike  Roach  Smelt  Whitefish  \n",
       "0     0.0    0.0   0.0    0.0    0.0        0.0  \n",
       "1     0.0    0.0   0.0    0.0    0.0        0.0  \n",
       "2     0.0    0.0   0.0    0.0    0.0        0.0  \n",
       "3     0.0    0.0   0.0    0.0    0.0        0.0  \n",
       "4     0.0    0.0   0.0    0.0    0.0        0.0  "
      ]
     },
     "execution_count": 28,
     "metadata": {},
     "output_type": "execute_result"
    }
   ],
   "source": [
    "df.head()"
   ]
  },
  {
   "cell_type": "markdown",
   "id": "0a89496e",
   "metadata": {},
   "source": [
    "So good so far, let's head to the next step which is correlation"
   ]
  },
  {
   "cell_type": "markdown",
   "id": "21c13c32",
   "metadata": {},
   "source": [
    "## Correlation"
   ]
  },
  {
   "cell_type": "markdown",
   "id": "c7218966",
   "metadata": {},
   "source": [
    "First i'm going to plot the correlation between the columns "
   ]
  },
  {
   "cell_type": "code",
   "execution_count": 29,
   "id": "836a6a09",
   "metadata": {},
   "outputs": [
    {
     "data": {
      "text/plain": [
       "<Axes: >"
      ]
     },
     "execution_count": 29,
     "metadata": {},
     "output_type": "execute_result"
    },
    {
     "data": {
      "image/png": "[encoded data removed]",
      "text/plain": [
       "<Figure size 800x550 with 2 Axes>"
      ]
     },
     "metadata": {},
     "output_type": "display_data"
    }
   ],
   "source": [
    "sns.heatmap(df.iloc[:,0:5].corr(), annot = True)"
   ]
  },
  {
   "cell_type": "markdown",
   "id": "3a835d31",
   "metadata": {},
   "source": [
    "Looks like the vertical length, digonal length and the cross length are almost identical so i will feature engineer a new column called `length` which will be the mean of these 3 columns"
   ]
  },
  {
   "cell_type": "code",
   "execution_count": 30,
   "id": "3af2764f",
   "metadata": {},
   "outputs": [],
   "source": [
    "df['length'] = (df['length_ver'] + df['length_diag'] + df['length_cross']) / 3"
   ]
  },
  {
   "cell_type": "markdown",
   "id": "25c995b9",
   "metadata": {},
   "source": [
    "Now let's slice the data into features and target"
   ]
  },
  {
   "cell_type": "markdown",
   "id": "b75f49da",
   "metadata": {},
   "source": [
    "## Slicing labels"
   ]
  },
  {
   "cell_type": "code",
   "execution_count": 31,
   "id": "facc33b0",
   "metadata": {},
   "outputs": [
    {
     "name": "stdout",
     "output_type": "stream",
     "text": [
      "x shape = (159, 13)\n"
     ]
    }
   ],
   "source": [
    "x = df.iloc[:,1:]\n",
    "y = df.iloc[:,0]\n",
    "print(f'x shape = {x.shape}')"
   ]
  },
  {
   "cell_type": "markdown",
   "id": "f6a41d00",
   "metadata": {},
   "source": [
    "After slicing the data into features and target i will split the data into training and testing sets"
   ]
  },
  {
   "cell_type": "markdown",
   "id": "3fb1d4a4",
   "metadata": {},
   "source": [
    "## Splitting the data"
   ]
  },
  {
   "cell_type": "code",
   "execution_count": 32,
   "id": "8d751e6c",
   "metadata": {},
   "outputs": [],
   "source": [
    "from sklearn.model_selection import train_test_split\n",
    "x_train, x_test, y_train, y_test = train_test_split(x, y, test_size= 0.2, random_state= 42)"
   ]
  },
  {
   "cell_type": "markdown",
   "id": "db57a46b",
   "metadata": {},
   "source": [
    "Let's scale the data using the `StandardScaler` from the `sklearn.preprocessing` library"
   ]
  },
  {
   "cell_type": "markdown",
   "id": "3f0fd083",
   "metadata": {},
   "source": [
    "## Scaling"
   ]
  },
  {
   "cell_type": "code",
   "execution_count": 33,
   "id": "40d3156e",
   "metadata": {},
   "outputs": [],
   "source": [
    "from sklearn.preprocessing import StandardScaler\n",
    "scaler = StandardScaler()\n",
    "x_train = scaler.fit_transform(x_train)\n",
    "x_test = scaler.transform(x_test) "
   ]
  },
  {
   "cell_type": "markdown",
   "id": "f3d6faed",
   "metadata": {},
   "source": [
    "The numerical columns are now scaled"
   ]
  },
  {
   "cell_type": "markdown",
   "id": "50b658bf",
   "metadata": {},
   "source": [
    "## Modeling"
   ]
  },
  {
   "cell_type": "markdown",
   "id": "629e62f7",
   "metadata": {},
   "source": [
    "I used the `LinearRegression` model from the `sklearn.linear_model` library to train the model"
   ]
  },
  {
   "cell_type": "code",
   "execution_count": 34,
   "id": "a8fb9ef5",
   "metadata": {},
   "outputs": [
    {
     "data": {
      "text/html": [
       "<style>#sk-container-id-1 {color: black;}#sk-container-id-1 pre{padding: 0;}#sk-container-id-1 div.sk-toggleable {background-color: white;}#sk-container-id-1 label.sk-toggleable__label {cursor: pointer;display: block;width: 100%;margin-bottom: 0;padding: 0.3em;box-sizing: border-box;text-align: center;}#sk-container-id-1 label.sk-toggleable__label-arrow:before {content: \"▸\";float: left;margin-right: 0.25em;color: #696969;}#sk-container-id-1 label.sk-toggleable__label-arrow:hover:before {color: black;}#sk-container-id-1 div.sk-estimator:hover label.sk-toggleable__label-arrow:before {color: black;}#sk-container-id-1 div.sk-toggleable__content {max-height: 0;max-width: 0;overflow: hidden;text-align: left;background-color: #f0f8ff;}#sk-container-id-1 div.sk-toggleable__content pre {margin: 0.2em;color: black;border-radius: 0.25em;background-color: #f0f8ff;}#sk-container-id-1 input.sk-toggleable__control:checked~div.sk-toggleable__content {max-height: 200px;max-width: 100%;overflow: auto;}#sk-container-id-1 input.sk-toggleable__control:checked~label.sk-toggleable__label-arrow:before {content: \"▾\";}#sk-container-id-1 div.sk-estimator input.sk-toggleable__control:checked~label.sk-toggleable__label {background-color: #d4ebff;}#sk-container-id-1 div.sk-label input.sk-toggleable__control:checked~label.sk-toggleable__label {background-color: #d4ebff;}#sk-container-id-1 input.sk-hidden--visually {border: 0;clip: rect(1px 1px 1px 1px);clip: rect(1px, 1px, 1px, 1px);height: 1px;margin: -1px;overflow: hidden;padding: 0;position: absolute;width: 1px;}#sk-container-id-1 div.sk-estimator {font-family: monospace;background-color: #f0f8ff;border: 1px dotted black;border-radius: 0.25em;box-sizing: border-box;margin-bottom: 0.5em;}#sk-container-id-1 div.sk-estimator:hover {background-color: #d4ebff;}#sk-container-id-1 div.sk-parallel-item::after {content: \"\";width: 100%;border-bottom: 1px solid gray;flex-grow: 1;}#sk-container-id-1 div.sk-label:hover label.sk-toggleable__label {background-color: #d4ebff;}#sk-container-id-1 div.sk-serial::before {content: \"\";position: absolute;border-left: 1px solid gray;box-sizing: border-box;top: 0;bottom: 0;left: 50%;z-index: 0;}#sk-container-id-1 div.sk-serial {display: flex;flex-direction: column;align-items: center;background-color: white;padding-right: 0.2em;padding-left: 0.2em;position: relative;}#sk-container-id-1 div.sk-item {position: relative;z-index: 1;}#sk-container-id-1 div.sk-parallel {display: flex;align-items: stretch;justify-content: center;background-color: white;position: relative;}#sk-container-id-1 div.sk-item::before, #sk-container-id-1 div.sk-parallel-item::before {content: \"\";position: absolute;border-left: 1px solid gray;box-sizing: border-box;top: 0;bottom: 0;left: 50%;z-index: -1;}#sk-container-id-1 div.sk-parallel-item {display: flex;flex-direction: column;z-index: 1;position: relative;background-color: white;}#sk-container-id-1 div.sk-parallel-item:first-child::after {align-self: flex-end;width: 50%;}#sk-container-id-1 div.sk-parallel-item:last-child::after {align-self: flex-start;width: 50%;}#sk-container-id-1 div.sk-parallel-item:only-child::after {width: 0;}#sk-container-id-1 div.sk-dashed-wrapped {border: 1px dashed gray;margin: 0 0.4em 0.5em 0.4em;box-sizing: border-box;padding-bottom: 0.4em;background-color: white;}#sk-container-id-1 div.sk-label label {font-family: monospace;font-weight: bold;display: inline-block;line-height: 1.2em;}#sk-container-id-1 div.sk-label-container {text-align: center;}#sk-container-id-1 div.sk-container {/* jupyter's `normalize.less` sets `[hidden] { display: none; }` but bootstrap.min.css set `[hidden] { display: none !important; }` so we also need the `!important` here to be able to override the default hidden behavior on the sphinx rendered scikit-learn.org. See: https://github.com/scikit-learn/scikit-learn/issues/21755 */display: inline-block !important;position: relative;}#sk-container-id-1 div.sk-text-repr-fallback {display: none;}</style><div id=\"sk-container-id-1\" class=\"sk-top-container\"><div class=\"sk-text-repr-fallback\"><pre>LinearRegression()</pre><b>In a Jupyter environment, please rerun this cell to show the HTML representation or trust the notebook. <br />On GitHub, the HTML representation is unable to render, please try loading this page with nbviewer.org.</b></div><div class=\"sk-container\" hidden><div class=\"sk-item\"><div class=\"sk-estimator sk-toggleable\"><input class=\"sk-toggleable__control sk-hidden--visually\" id=\"sk-estimator-id-1\" type=\"checkbox\" checked><label for=\"sk-estimator-id-1\" class=\"sk-toggleable__label sk-toggleable__label-arrow\">LinearRegression</label><div class=\"sk-toggleable__content\"><pre>LinearRegression()</pre></div></div></div></div></div>"
      ],
      "text/plain": [
       "LinearRegression()"
      ]
     },
     "execution_count": 34,
     "metadata": {},
     "output_type": "execute_result"
    }
   ],
   "source": [
    "from sklearn.linear_model import LinearRegression\n",
    "lin_reg = LinearRegression()\n",
    "lin_reg.fit(x_train, y_train)"
   ]
  },
  {
   "cell_type": "markdown",
   "id": "e65623f4",
   "metadata": {},
   "source": [
    "Now let's predict the results"
   ]
  },
  {
   "cell_type": "code",
   "execution_count": 35,
   "id": "7d746aa3",
   "metadata": {},
   "outputs": [],
   "source": [
    "y_pred = lin_reg.predict(x_test)"
   ]
  },
  {
   "cell_type": "markdown",
   "id": "8056fe3a",
   "metadata": {},
   "source": [
    "## Evaluation"
   ]
  },
  {
   "cell_type": "markdown",
   "id": "f7d14d2c",
   "metadata": {},
   "source": [
    "I'll use the `mean_squared_error` function from the `sklearn.metrics` library to evaluate the model\n",
    "\n",
    "Then i'll get the root mean squared error using the `np.sqrt` function"
   ]
  },
  {
   "cell_type": "code",
   "execution_count": 36,
   "id": "cf7c94cd",
   "metadata": {},
   "outputs": [
    {
     "name": "stdout",
     "output_type": "stream",
     "text": [
      "Root mean squared error = 83.52959560710596\n"
     ]
    }
   ],
   "source": [
    "from sklearn.metrics import mean_squared_error\n",
    "mse = mean_squared_error(y_test, y_pred)\n",
    "rmse = np.sqrt(mse)\n",
    "print(f'Root mean squared error = {rmse}')"
   ]
  }
 ],
 "metadata": {
  "kernelspec": {
   "display_name": "Python 3 (ipykernel)",
   "language": "python",
   "name": "python3"
  },
  "language_info": {
   "codemirror_mode": {
    "name": "ipython",
    "version": 3
   },
   "file_extension": ".py",
   "mimetype": "text/x-python",
   "name": "python",
   "nbconvert_exporter": "python",
   "pygments_lexer": "ipython3",
   "version": "3.9.18"
  }
 },
 "nbformat": 4,
 "nbformat_minor": 5
}
